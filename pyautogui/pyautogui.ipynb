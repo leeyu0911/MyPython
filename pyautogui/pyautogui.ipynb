{
 "cells": [
  {
   "cell_type": "code",
   "execution_count": 2,
   "metadata": {},
   "outputs": [],
   "source": [
    "import pyautogui"
   ]
  },
  {
   "cell_type": "code",
   "execution_count": 3,
   "metadata": {},
   "outputs": [
    {
     "data": {
      "text/plain": [
       "Size(width=1440, height=900)"
      ]
     },
     "execution_count": 3,
     "metadata": {},
     "output_type": "execute_result"
    }
   ],
   "source": [
    "pyautogui.size()"
   ]
  },
  {
   "cell_type": "code",
   "execution_count": 10,
   "metadata": {},
   "outputs": [],
   "source": [
    "pyautogui.moveTo(100, 100, duration=0.25)\n",
    "pyautogui.moveTo(200, 100, duration=0.25)\n",
    "pyautogui.moveTo(300, 100, duration=0.25)\n",
    "pyautogui.moveTo(400, 100, duration=0.25)"
   ]
  },
  {
   "cell_type": "code",
   "execution_count": 19,
   "metadata": {},
   "outputs": [],
   "source": [
    "pyautogui.moveRel(100, 0, duration=0.25)"
   ]
  },
  {
   "cell_type": "code",
   "execution_count": 32,
   "metadata": {},
   "outputs": [
    {
     "data": {
      "text/plain": [
       "Point(x=1439, y=899)"
      ]
     },
     "execution_count": 32,
     "metadata": {},
     "output_type": "execute_result"
    }
   ],
   "source": [
    "pyautogui.position()"
   ]
  },
  {
   "cell_type": "code",
   "execution_count": 36,
   "metadata": {},
   "outputs": [],
   "source": [
    "pyautogui.click(400, 201)"
   ]
  },
  {
   "cell_type": "code",
   "execution_count": 41,
   "metadata": {},
   "outputs": [],
   "source": [
    "import pyautogui, time \n",
    "time.sleep(5) \n",
    "pyautogui.click() # click to put drawing program in focus \n",
    "distance = 200 \n",
    "while distance > 0:       \n",
    "    pyautogui.dragRel(distance, 0, duration=0.1, button='left')  # move right       \n",
    "    distance = distance - 5 \n",
    "    pyautogui.dragRel(0, distance, duration=0.1, button='left')  # move down      \n",
    "    pyautogui.dragRel(-distance, 0, duration=0.1, button='left') # move left      \n",
    "    distance = distance - 5      \n",
    "    pyautogui.dragRel(0, -distance, duration=0.1, button='left') # move up"
   ]
  },
  {
   "cell_type": "code",
   "execution_count": 51,
   "metadata": {},
   "outputs": [],
   "source": [
    "for i in range(100):\n",
    "    pyautogui.scroll(-1)\n",
    "    pyautogui.scroll(1)"
   ]
  },
  {
   "cell_type": "code",
   "execution_count": 53,
   "metadata": {},
   "outputs": [],
   "source": [
    "# 剪貼簿 （文字）\n",
    "import pyperclip\n",
    "n = ''\n",
    "for i in range(200):\n",
    "    n += str(i) + '\\n'\n",
    "    \n",
    "pyperclip.copy(n)"
   ]
  },
  {
   "cell_type": "code",
   "execution_count": 3,
   "metadata": {},
   "outputs": [
    {
     "name": "stdout",
     "output_type": "stream",
     "text": [
      "(53, 54, 58, 255)\n",
      "True\n"
     ]
    }
   ],
   "source": [
    "# 用於確認鼠標點擊是否正確\n",
    "im = pyautogui.screenshot()\n",
    "print(im.getpixel((50,200)))\n",
    "print(pyautogui.pixelMatchesColor(50, 200, (53, 54, 58)))"
   ]
  },
  {
   "cell_type": "code",
   "execution_count": 4,
   "metadata": {},
   "outputs": [
    {
     "data": {
      "text/plain": [
       "Box(left=1486, top=368, width=222, height=22)"
      ]
     },
     "execution_count": 4,
     "metadata": {},
     "output_type": "execute_result"
    }
   ],
   "source": [
    "pyautogui.locateOnScreen('s.png') # 850"
   ]
  },
  {
   "cell_type": "code",
   "execution_count": 1,
   "metadata": {},
   "outputs": [
    {
     "data": {
      "text/plain": [
       "['/Users/leeyu/Documents/GitHub/MyPython/pyautogui',\n",
       " '/Library/Frameworks/Python.framework/Versions/3.7/lib/python37.zip',\n",
       " '/Library/Frameworks/Python.framework/Versions/3.7/lib/python3.7',\n",
       " '/Library/Frameworks/Python.framework/Versions/3.7/lib/python3.7/lib-dynload',\n",
       " '',\n",
       " '/Users/leeyu/Library/Python/3.7/lib/python/site-packages',\n",
       " '/Library/Frameworks/Python.framework/Versions/3.7/lib/python3.7/site-packages',\n",
       " '/Users/leeyu/Library/Python/3.7/lib/python/site-packages/IPython/extensions',\n",
       " '/Users/leeyu/.ipython']"
      ]
     },
     "execution_count": 1,
     "metadata": {},
     "output_type": "execute_result"
    }
   ],
   "source": [
    "import sys \n",
    "sys.path"
   ]
  },
  {
   "cell_type": "code",
   "execution_count": null,
   "metadata": {},
   "outputs": [],
   "source": []
  }
 ],
 "metadata": {
  "kernelspec": {
   "display_name": "Python 3",
   "language": "python",
   "name": "python3"
  },
  "language_info": {
   "codemirror_mode": {
    "name": "ipython",
    "version": 3
   },
   "file_extension": ".py",
   "mimetype": "text/x-python",
   "name": "python",
   "nbconvert_exporter": "python",
   "pygments_lexer": "ipython3",
   "version": "3.7.6"
  }
 },
 "nbformat": 4,
 "nbformat_minor": 4
}
