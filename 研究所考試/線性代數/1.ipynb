{
 "cells": [
  {
   "cell_type": "code",
   "execution_count": 21,
   "metadata": {},
   "outputs": [
    {
     "output_type": "stream",
     "name": "stdout",
     "text": "[[5.]\n [3.]]\n"
    }
   ],
   "source": [
    "import numpy as np\n",
    "A = np.array([[2,   1],\n",
    "              [10, -2]])\n",
    "B = np.array([13, 44]).reshape(2, 1)\n",
    "\n",
    "A_inv = np.linalg.inv(A)\n",
    "\n",
    "ans = A_inv.dot(B)\n",
    "print(ans)"
   ]
  },
  {
   "cell_type": "code",
   "execution_count": 22,
   "metadata": {},
   "outputs": [
    {
     "output_type": "stream",
     "name": "stdout",
     "text": "[[5.]\n [3.]]\n"
    }
   ],
   "source": [
    "\n",
    "A = np.mat('2,1; 10,-2')    \n",
    "b = np.mat('13,44').T       \n",
    "r = np.linalg.solve(A,b)  \n",
    "print(r)"
   ]
  },
  {
   "cell_type": "code",
   "execution_count": 23,
   "metadata": {},
   "outputs": [
    {
     "output_type": "execute_result",
     "data": {
      "text/plain": "(array([[-7.07106781e-01,  2.35702260e-01, -6.66666667e-01],\n        [-7.07106781e-01, -2.35702260e-01,  6.66666667e-01],\n        [-1.88794506e-16,  9.42809042e-01,  3.33333333e-01]]),\n array([5., 3.]),\n array([[-0.70710678, -0.70710678],\n        [ 0.70710678, -0.70710678]]))"
     },
     "metadata": {},
     "execution_count": 23
    }
   ],
   "source": [
    "A = np.array([[3,2],[2,3],[2,-2]])\n",
    "a_svd = np.linalg.svd(A) \n",
    "a_svd"
   ]
  },
  {
   "cell_type": "code",
   "execution_count": 24,
   "metadata": {},
   "outputs": [
    {
     "output_type": "execute_result",
     "data": {
      "text/plain": "(array([5.        , 1.00000002, 0.99999998]),\n array([[-7.07106781e-01, -2.35702256e-01,  2.35702265e-01],\n        [-7.07106781e-01, -2.35702267e-01,  2.35702254e-01],\n        [ 4.06449421e-18,  9.42809041e-01, -9.42809042e-01]]))"
     },
     "metadata": {},
     "execution_count": 24
    }
   ],
   "source": [
    "A = np.array([[3,2,1],[2,3,1],[2,-2,1]])\n",
    "a_eigen = np.linalg.eig(A) \n",
    "a_eigen"
   ]
  },
  {
   "cell_type": "code",
   "execution_count": 25,
   "metadata": {},
   "outputs": [
    {
     "output_type": "stream",
     "name": "stdout",
     "text": "1592262918131443/2251799813685248\n"
    }
   ],
   "source": [
    "from fractions import Fraction\n",
    "print(Fraction(1/(2**(1/2))))"
   ]
  },
  {
   "cell_type": "code",
   "execution_count": 26,
   "metadata": {},
   "outputs": [
    {
     "output_type": "execute_result",
     "data": {
      "text/plain": "42"
     },
     "metadata": {},
     "execution_count": 26
    }
   ],
   "source": [
    "(-80538738812075974)**3 + 80435758145817515**3 + 12602123297335631**3"
   ]
  },
  {
   "cell_type": "code",
   "execution_count": 27,
   "metadata": {},
   "outputs": [],
   "source": [
    "\n",
    ""
   ]
  }
 ],
 "metadata": {
  "language_info": {
   "codemirror_mode": {
    "name": "ipython",
    "version": 2
   },
   "file_extension": ".py",
   "mimetype": "text/x-python",
   "name": "python",
   "nbconvert_exporter": "python",
   "pygments_lexer": "ipython2",
   "version": "3.7.6-final"
  },
  "kernelspec": {
   "name": "python37664bit4e26bc354fda4a6e8d36f7ebf6197852",
   "language": "python",
   "display_name": "Python 3.7.6 64-bit"
  },
  "pycharm": {
   "stem_cell": {
    "cell_type": "raw",
    "source": [],
    "metadata": {
     "collapsed": false
    }
   }
  }
 },
 "nbformat": 4,
 "nbformat_minor": 0
}